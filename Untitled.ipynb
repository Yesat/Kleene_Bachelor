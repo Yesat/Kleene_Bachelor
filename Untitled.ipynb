{
 "cells": [
  {
   "cell_type": "code",
   "execution_count": 17,
   "metadata": {},
   "outputs": [],
   "source": [
    "from regLangTree import *"
   ]
  },
  {
   "cell_type": "code",
   "execution_count": 22,
   "metadata": {},
   "outputs": [
    {
     "name": "stdout",
     "output_type": "stream",
     "text": [
      "0.0009610580000298796\n"
     ]
    }
   ],
   "source": [
    "mat,mat_star = mat_test(3,['a','b'])"
   ]
  },
  {
   "cell_type": "code",
   "execution_count": 23,
   "metadata": {},
   "outputs": [
    {
     "data": {
      "text/plain": [
       "3"
      ]
     },
     "execution_count": 23,
     "metadata": {},
     "output_type": "execute_result"
    }
   ],
   "source": [
    "len(mat_star)"
   ]
  },
  {
   "cell_type": "code",
   "execution_count": 27,
   "metadata": {},
   "outputs": [
    {
     "data": {
      "text/plain": [
       "[['((((b . b*) . a) . ((b . b*) . a)*) . ((b . b*) . (a + eps*)))',\n",
       "  '((((b . b*) . a) . ((b . b*) . a)*) . ((b . b*) . (a + eps*)))',\n",
       "  '((((b . b*) . a) . ((b . b*) . a)*) . ((b . b*) . (a + eps*)))'],\n",
       " ['(((((b . b*) . a) . ((b . b*) . a)*) . ((b . b*) . b)) + eps)',\n",
       "  '(((((b . b*) . a) . ((b . b*) . a)*) . ((b . b*) . b)) + eps)',\n",
       "  '(((((b . b*) . a) . ((b . b*) . a)*) . ((b . b*) . b)) + eps)'],\n",
       " ['(((((b . b*) . a) . ((b . b*) . a)*) . ((b . b*) . a)) + eps)',\n",
       "  '(((((b . b*) . a) . ((b . b*) . a)*) . ((b . b*) . a)) + eps)',\n",
       "  '(((((b . b*) . a) . ((b . b*) . a)*) . ((b . b*) . a)) + eps)']]"
      ]
     },
     "execution_count": 27,
     "metadata": {},
     "output_type": "execute_result"
    }
   ],
   "source": [
    "mat_to_string(mat_star)"
   ]
  },
  {
   "cell_type": "code",
   "execution_count": 28,
   "metadata": {},
   "outputs": [
    {
     "data": {
      "text/plain": [
       "[['eps', 'a', 'a'], ['', 'eps', 'b'], ['', '', 'a']]"
      ]
     },
     "execution_count": 28,
     "metadata": {},
     "output_type": "execute_result"
    }
   ],
   "source": [
    "mat_to_string(mat)"
   ]
  },
  {
   "cell_type": "code",
   "execution_count": null,
   "metadata": {},
   "outputs": [],
   "source": []
  }
 ],
 "metadata": {
  "kernelspec": {
   "display_name": "Python 3",
   "language": "python",
   "name": "python3"
  },
  "language_info": {
   "codemirror_mode": {
    "name": "ipython",
    "version": 3
   },
   "file_extension": ".py",
   "mimetype": "text/x-python",
   "name": "python",
   "nbconvert_exporter": "python",
   "pygments_lexer": "ipython3",
   "version": "3.7.2"
  }
 },
 "nbformat": 4,
 "nbformat_minor": 2
}
